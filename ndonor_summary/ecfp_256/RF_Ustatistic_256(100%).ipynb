{
 "cells": [
  {
   "cell_type": "code",
   "execution_count": 1,
   "metadata": {},
   "outputs": [],
   "source": [
    "import pandas as pd\n",
    "import numpy as np\n",
    "from sklearn.ensemble import RandomForestRegressor\n",
    "from sklearn import utils\n",
    "from sklearn import preprocessing\n",
    "from sklearn.metrics import mean_squared_error\n",
    "from sklearn.utils import shuffle"
   ]
  },
  {
   "cell_type": "code",
   "execution_count": 2,
   "metadata": {},
   "outputs": [],
   "source": [
    "# #define a function for normalizing in vertical order\n",
    "# def col_normalize(X):\n",
    "#     X1=np.matrix(X)\n",
    "#     X_1=X1.transpose()\n",
    "#     X_2=np.array(X_1)\n",
    "#     X_3=preprocessing.normalize(X_2,norm=\"l2\")\n",
    "#     X_4=np.matrix(X_3)\n",
    "#     X_5=X_4.transpose()\n",
    "#     X_6=np.array(X_5)\n",
    "#     return X_6"
   ]
  },
  {
   "cell_type": "code",
   "execution_count": 3,
   "metadata": {},
   "outputs": [
    {
     "name": "stdout",
     "output_type": "stream",
     "text": [
      "996\n"
     ]
    },
    {
     "data": {
      "text/plain": [
       "(996, 257)"
      ]
     },
     "execution_count": 3,
     "metadata": {},
     "output_type": "execute_result"
    }
   ],
   "source": [
    "#read the file containing the ecfp and isomer(1 or 2) and normalize\n",
    "input_positive=pd.read_csv('/Users/blair/Desktop/RF_Ustatistic/256/input_996.csv')#Put address\n",
    "efp_996=pd.read_csv('/Users/blair/Desktop/RF_Ustatistic/256/efp_996.csv')\n",
    "efp_996=np.array(efp_996)\n",
    "print(len(efp_996))\n",
    "Isomer_positive=input_positive[['Isomer']].copy()\n",
    "X_996=np.concatenate((efp_996,Isomer_positive),axis=1)\n",
    "#X_785=col_normalize(X_785)\n",
    "X_996.shape"
   ]
  },
  {
   "cell_type": "code",
   "execution_count": 5,
   "metadata": {},
   "outputs": [],
   "source": [
    "#assign the Hammett constants to Y\n",
    "Y_996=input_positive[['Hammett Constant']].copy()\n",
    "Y_996=np.array(Y_996)"
   ]
  },
  {
   "cell_type": "code",
   "execution_count": null,
   "metadata": {},
   "outputs": [],
   "source": [
    "# input_negative=pd.read_csv('/Users/blair/Desktop/half_test/input_negative.csv')#Put address\n",
    "# efp_183=pd.read_csv('/Users/blair/Desktop/half_test/efp_negative.csv')\n",
    "# efp_183=np.array(efp_183)\n",
    "# print(len(efp_183))\n",
    "# Isomer_negative=input_negative[['Isomer']].copy()\n",
    "# X_183=np.concatenate((efp_183,Isomer_negative),axis=1)\n",
    "# #X_183=col_normalize(X_183)\n",
    "# X_183.shape"
   ]
  },
  {
   "cell_type": "code",
   "execution_count": null,
   "metadata": {},
   "outputs": [],
   "source": [
    "# Y_negative=input_negative[['Hammett Constant']].copy()\n",
    "# Y_negative=np.array(Y_negative)\n",
    "# Y_negative.shape"
   ]
  },
  {
   "cell_type": "code",
   "execution_count": null,
   "metadata": {},
   "outputs": [],
   "source": [
    "# input_zeros=pd.read_csv('/Users/blair/Desktop/half_test/input_zeros.csv')#Put address\n",
    "# efp_28=pd.read_csv('/Users/blair/Desktop/half_test/efp_zeros.csv')\n",
    "# efp_28=np.array(efp_28)\n",
    "# print(len(efp_28))\n",
    "# Isomer_zeros=input_zeros[['Isomer']].copy()\n",
    "# X_28=np.concatenate((efp_28,Isomer_zeros),axis=1)\n",
    "# #X_28=col_normalize(X_28)\n",
    "# X_28.shape\n",
    "# X_28"
   ]
  },
  {
   "cell_type": "code",
   "execution_count": null,
   "metadata": {},
   "outputs": [],
   "source": [
    "# Y_zeros=input_zeros[['Hammett Constant']].copy()\n",
    "# Y_zeros=np.array(Y_zeros)\n",
    "# Y_zeros.shape"
   ]
  },
  {
   "cell_type": "code",
   "execution_count": 8,
   "metadata": {},
   "outputs": [],
   "source": [
    "efp_ndonor=pd.read_csv('/Users/blair/Desktop/half_test/ndonor/test2/ecfp_ndonor.csv')\n",
    "efp_ndonor=np.array(efp_ndonor)\n",
    "X_ndonor=efp_ndonor"
   ]
  },
  {
   "cell_type": "code",
   "execution_count": null,
   "metadata": {},
   "outputs": [],
   "source": [
    "# X_996=np.concatenate((X_785,X_183,X_28),axis=0)\n",
    "# Y_996=np.concatenate((Y_positive,Y_negative,Y_zeros),axis=0)\n",
    "# X_996.shape\n",
    "# Y_996.shape"
   ]
  },
  {
   "cell_type": "code",
   "execution_count": 6,
   "metadata": {},
   "outputs": [
    {
     "name": "stdout",
     "output_type": "stream",
     "text": [
      "(1000,)\n"
     ]
    }
   ],
   "source": [
    "#create null list to record values later\n",
    "MSE_boot=np.zeros((1000),dtype= float)\n",
    "#Index= np.zeros((1000,662),dtype=int)\n",
    "Y_prediction_train=np.zeros((996,1000),dtype=float)\n",
    "#Y_prediction_test=np.zeros((334,1000),dtype=float)\n",
    "Y_pred_all=np.zeros((996,1000),dtype=float)\n",
    "Y_target_train=np.zeros((996,1000),dtype=float)\n",
    "#Y_target_test=np.zeros((334,1000),dtype=float)\n",
    "Y_prediction_ndonor=np.zeros((10,1000),dtype=float)\n",
    "MSE_boot=np.zeros((1000),dtype= float)\n",
    "print(Y_target_train[0].shape)"
   ]
  },
  {
   "cell_type": "code",
   "execution_count": 7,
   "metadata": {},
   "outputs": [],
   "source": [
    "regr = RandomForestRegressor(n_estimators=1, max_depth=None, random_state=None,bootstrap=0)"
   ]
  },
  {
   "cell_type": "code",
   "execution_count": 13,
   "metadata": {},
   "outputs": [],
   "source": [
    "for m in range(0,1000):\n",
    "    #positive part\n",
    "    index_996=np.random.choice(996, size=996, replace=1)\n",
    "    X_train=X_996[index_996]\n",
    "    Y_train=Y_996[index_996]\n",
    "    X_test=np.delete(X_train,index_996,axis=0)\n",
    "    Y_test=np.delete(Y_train,index_996,axis=0)\n",
    "    #Y_positive_left.shape\n",
    "    #negative part\n",
    "#     index_negative=np.random.choice(183, size=183, replace=1)\n",
    "#     X_121=X_183[index_negative]\n",
    "#     Y_121=Y_negative[index_negative]\n",
    "#     X_negative_left=np.delete(X_183,index_negative,axis=0)\n",
    "#     Y_negative_left=np.delete(Y_negative,index_negative,axis=0)\n",
    "#     #neutral part\n",
    "#     index_zeros=np.random.choice(28, size=28, replace=1)\n",
    "#     X_18=X_28[index_zeros]\n",
    "#     Y_18=Y_zeros[index_zeros]\n",
    "#     X_zeros_left=np.delete(X_28,index_zeros,axis=0)\n",
    "#     Y_zeros_left=np.delete(Y_zeros,index_zeros,axis=0)\n",
    "#     #target\n",
    "#     X_662=np.concatenate((X_523,X_121,X_18),axis=0)\n",
    "#     Y_662=np.concatenate((Y_523,Y_121,Y_18),axis=0)\n",
    "#     X_662, Y_662 = shuffle(X_662, Y_662)\n",
    "#     #X_662.shape\n",
    "#     #print(Y_662.shape)\n",
    "#     #left\n",
    "#     X_left=np.concatenate((X_positive_left,X_negative_left,X_zeros_left),axis=0)\n",
    "#     Y_left=np.concatenate((Y_positive_left,Y_negative_left,Y_zeros_left),axis=0)\n",
    "#     Y_target_train[:,m]=Y_662.ravel()\n",
    "#     #Y_target_test[:,m]=Y_left.ravel()\n",
    "#     #Y_left.shape\n",
    "#     #RF\n",
    "    X_resample= X_train\n",
    "    Y_resample= Y_train\n",
    "    regr.fit(X_resample, Y_resample.ravel())\n",
    "    Y_pred_train=regr.predict(X_resample)    #Fit RF on training set\n",
    "    Y_pred_test=regr.predict(X_test)        #Fit RF on testing set\n",
    "    Y_pred_all_each=regr.predict(X_996)     # Fit RF on complete database\n",
    "    Y_pred_all[:,m]=Y_pred_all_each\n",
    "    #Y_prediction_test[:,m]=Y_pred_left\n",
    "    Y_prediction_train[:,m]=Y_pred_train\n",
    "    #Y_pred_all=regr.predict(X_996)\n",
    "#    Y_pred_ndonor=regr.predict(X_ndonor)    # Fit RF on ndonor\n",
    "#    Y_prediction_ndonor[:,m]=Y_pred_ndonor\n",
    "    MSE_train=mean_squared_error(Y_resample, Y_pred_train)\n",
    "    MSE_test=mean_squared_error(Y_test, Y_pred_test)\n",
    "    MSE_boot[m]=(MSE_train*0.368)+(0.632)*(MSE_test)"
   ]
  },
  {
   "cell_type": "code",
   "execution_count": 14,
   "metadata": {},
   "outputs": [],
   "source": [
    "Y_prediction_mean=Y_pred_all.mean(axis=1)"
   ]
  },
  {
   "cell_type": "code",
   "execution_count": 15,
   "metadata": {},
   "outputs": [
    {
     "data": {
      "text/plain": [
       "array([0.20957706, 0.13557898, 0.11895521, 0.1987122 , 0.33442231,\n",
       "       0.07645201, 0.08123465, 0.14391039, 0.10663527, 0.12424101,\n",
       "       0.15522374, 0.16288768, 0.18257119, 0.10313928, 0.13576196,\n",
       "       0.10370322, 0.11646191, 0.09598102, 0.10181202, 0.12921422,\n",
       "       0.17145987, 0.07540337, 0.09972882, 0.0649338 , 0.05201781,\n",
       "       0.11878946, 0.11901509, 0.0437421 , 0.02600307, 0.06265176,\n",
       "       0.08794774, 0.05296074, 0.06237107, 0.08132367, 0.09074218,\n",
       "       0.06581397, 0.08196757, 0.12122171, 0.10518582, 0.05740897,\n",
       "       0.06158708, 0.07909347, 0.11508068, 0.07961853, 0.14250515,\n",
       "       0.19168606, 0.07792809, 0.11413184, 0.08601026, 0.10737946,\n",
       "       0.06335165, 0.07797469, 0.06710857, 0.07340419, 0.08152394,\n",
       "       0.09597568, 0.17632783, 0.18059779, 0.05748337, 0.06511958,\n",
       "       0.05959651, 0.06461561, 0.14158263, 0.16134231, 0.09118964,\n",
       "       0.1005691 , 0.07737793, 0.09670171, 0.12660087, 0.10220586,\n",
       "       0.15266293, 0.09708029, 0.11808573, 0.04488323, 0.06348864,\n",
       "       0.11715142, 0.13427767, 0.10694384, 0.12866827, 0.14090998,\n",
       "       0.10689946, 0.08248134, 0.10382038, 0.17634949, 0.22646112,\n",
       "       0.09202683, 0.10317983, 0.0409871 , 0.05317344, 0.12580162,\n",
       "       0.12744627, 0.08444534, 0.11022971, 0.06224556, 0.08009339,\n",
       "       0.10040054, 0.1895156 , 0.10464817, 0.12929332, 0.10476253,\n",
       "       0.11320463, 0.12924039, 0.13603675, 0.13584566, 0.21902082,\n",
       "       0.05918348, 0.07060713, 0.07538539, 0.0856945 , 0.14873065,\n",
       "       0.11333961, 0.2314571 , 0.25924708, 0.17013488, 0.1839464 ,\n",
       "       0.13347577, 0.13919124, 0.07781122, 0.04450617, 0.08616932,\n",
       "       0.09817061, 0.06420772, 0.0825733 , 0.18294886, 0.13447319,\n",
       "       0.06958954, 0.10402775, 0.10688032, 0.11988978, 0.05494881,\n",
       "       0.07975001, 0.03581262, 0.0437831 , 0.08128576, 0.04583181,\n",
       "       0.26396295, 0.26001699, 0.14172265, 0.12159282, 0.23145295,\n",
       "       0.22574089, 0.12944126, 0.14396411, 0.14515887, 0.17932179,\n",
       "       0.27139169, 0.09618207, 0.06671607, 0.06937897, 0.08481791,\n",
       "       0.10924137, 0.29418544, 0.36425902, 0.12407314, 0.11606053,\n",
       "       0.09377366, 0.12244688, 0.09588694, 0.11988513, 0.19612284,\n",
       "       0.23636759, 0.1663932 , 0.19476575, 0.23271795, 0.11480852,\n",
       "       0.18053079, 0.25894804, 0.09400013, 0.09042185, 0.22948316,\n",
       "       0.30488183, 0.28900894, 0.24979434, 0.24317691, 0.3050916 ,\n",
       "       0.27929951, 0.35828574, 0.1076882 , 0.14953582, 0.16999459,\n",
       "       0.30497268, 0.13204133, 0.13387932, 0.10782455, 0.12660614,\n",
       "       0.08975643, 0.09392891, 0.10051365, 0.1171538 , 0.10982476,\n",
       "       0.12054483, 0.10515965, 0.18994117, 0.10924281, 0.20047383,\n",
       "       0.15910901, 0.2163153 , 0.27965797, 0.27969875, 0.11308559,\n",
       "       0.17403302, 0.07293179, 0.09990594, 0.11443604, 0.2029596 ,\n",
       "       0.47583538, 0.52214311, 0.16792032, 0.18280729, 0.18909487,\n",
       "       0.22466588, 0.26985596, 0.17145339, 0.26029005, 0.15323948,\n",
       "       0.23912227, 0.08115625, 0.10057168, 0.03695487, 0.05750339,\n",
       "       0.04767243, 0.06177548, 0.0398812 , 0.06215272, 0.12221035,\n",
       "       0.14016796, 0.1455787 , 0.14623137, 0.11753712, 0.13403234,\n",
       "       0.11857966, 0.184955  , 0.13505104, 0.17771327, 0.19622586,\n",
       "       0.19206598, 0.20304772, 0.29637974, 0.14971987, 0.23451175,\n",
       "       0.25226613, 0.28813902, 0.06386987, 0.05485472, 0.06597946,\n",
       "       0.09348117, 0.20357664, 0.2384452 , 0.11377153, 0.13203554,\n",
       "       0.31865231, 0.17278553, 0.23633532, 0.12922271, 0.12646098,\n",
       "       0.08093279, 0.07500403, 0.10437504, 0.17987206, 0.09380191,\n",
       "       0.08901037, 0.18949928, 0.19966446, 0.20680099, 0.18773701,\n",
       "       0.11185475, 0.10186481, 0.07670275, 0.07575909, 0.12579416,\n",
       "       0.1373447 , 0.07130319, 0.04257952, 0.07472266, 0.11515462,\n",
       "       0.08203155, 0.12600772, 0.37644602, 0.45817367, 0.13454813,\n",
       "       0.17554734, 0.04074376, 0.01268363, 0.04393457, 0.06915434,\n",
       "       0.3736374 , 0.44695608, 0.06548294, 0.06549572, 0.08267829,\n",
       "       0.15824867, 0.04628036, 0.04863515, 0.03186844, 0.02416303,\n",
       "       0.0301735 , 0.03346042, 0.0437993 , 0.07957259, 0.04007462,\n",
       "       0.03848193, 0.08469022, 0.10083311, 0.05545124, 0.07440143,\n",
       "       0.05476638, 0.07412848, 0.07472348, 0.11119142, 0.05855179,\n",
       "       0.05651046, 0.05098698, 0.0818107 , 0.12247444, 0.127536  ,\n",
       "       0.12428344, 0.2069381 , 0.05438509, 0.04260035, 0.07379137,\n",
       "       0.10795507, 0.03467414, 0.04317371, 0.12203146, 0.1474222 ,\n",
       "       0.2218647 , 0.11289898, 0.13544105, 0.0596179 , 0.05507704,\n",
       "       0.13449327, 0.142179  , 0.11094199, 0.11720597, 0.10646456,\n",
       "       0.11477347, 0.10117826, 0.09963708, 0.07588535, 0.09430053,\n",
       "       0.17977021, 0.27593024, 0.09687919, 0.11376492, 0.12082821,\n",
       "       0.13413487, 0.08056239, 0.08578736, 0.08080384, 0.06613385,\n",
       "       0.06235183, 0.05642559, 0.04074376, 0.01268363, 0.18892061,\n",
       "       0.21082728, 0.06381103, 0.06671057, 0.05532595, 0.06781598,\n",
       "       0.05017173, 0.05065079, 0.05017173, 0.05065079, 0.22567131,\n",
       "       0.20147385, 0.10360027, 0.11875343, 0.07431223, 0.0781448 ,\n",
       "       0.09596116, 0.1282821 , 0.07015266, 0.07556163, 0.10363676,\n",
       "       0.11530056, 0.10970614, 0.14183959, 0.09450501, 0.09318851,\n",
       "       0.04074376, 0.01268363, 0.05641932, 0.08124044, 0.06836746,\n",
       "       0.09493278, 0.1384962 , 0.13647594, 0.26984891, 0.35325626,\n",
       "       0.1906218 , 0.20924397, 0.20476126, 0.30639402, 0.05628765,\n",
       "       0.08253838, 0.08486542, 0.09100951, 0.24607043, 0.26020705,\n",
       "       0.16145952, 0.15029421, 0.14856444, 0.14217721, 0.14129162,\n",
       "       0.13995177, 0.22931526, 0.22361889, 0.12871642, 0.17186019,\n",
       "       0.09851897, 0.10631865, 0.16044606, 0.17649802, 0.06874821,\n",
       "       0.07706653, 0.18231281, 0.22736132, 0.17288829, 0.15525154,\n",
       "       0.10980514, 0.12340851, 0.07366111, 0.08661187, 0.1608596 ,\n",
       "       0.25909515, 0.06758994, 0.08840842, 0.11143091, 0.1698955 ,\n",
       "       0.11272439, 0.12707114, 0.06861618, 0.07273054, 0.0920011 ,\n",
       "       0.10705916, 0.14709041, 0.16834371, 0.17324226, 0.18504442,\n",
       "       0.06876865, 0.07514259, 0.13381907, 0.11703408, 0.08085955,\n",
       "       0.08895193, 0.19415148, 0.17432205, 0.21111505, 0.20864168,\n",
       "       0.1755632 , 0.19526592, 0.08308837, 0.08880751, 0.17809921,\n",
       "       0.18043137, 0.03977914, 0.05435774, 0.15819055, 0.16418298,\n",
       "       0.13419246, 0.15515984, 0.05439207, 0.06349796, 0.10770873,\n",
       "       0.14900985, 0.18644271, 0.27052621, 0.07859311, 0.10538717,\n",
       "       0.05844065, 0.07480909, 0.091296  , 0.11454412, 0.14402463,\n",
       "       0.15392115, 0.19298818, 0.18208638, 0.22508495, 0.21062441,\n",
       "       0.06869786, 0.08218065, 0.03398198, 0.07527553, 0.09024177,\n",
       "       0.10548105, 0.0961179 , 0.07939263, 0.1460761 , 0.18412646,\n",
       "       0.08353662, 0.08196496, 0.0423626 , 0.04771487, 0.10257976,\n",
       "       0.1264836 , 0.15868179, 0.17986014, 0.13140775, 0.13825381,\n",
       "       0.10774273, 0.12317683, 0.1030722 , 0.13871494, 0.07240622,\n",
       "       0.09152452, 0.12137721, 0.14389579, 0.15794031, 0.15874569,\n",
       "       0.26373803, 0.2725107 , 0.14895725, 0.1831252 , 0.0513785 ,\n",
       "       0.06561172, 0.26417834, 0.31229214, 0.07061606, 0.08523239,\n",
       "       0.10325202, 0.1415088 , 0.04746221, 0.05286902, 0.10321549,\n",
       "       0.12420383, 0.04302935, 0.06388728, 0.04302935, 0.06388728,\n",
       "       0.22500159, 0.20684339, 0.12998554, 0.16023288, 0.0745304 ,\n",
       "       0.08834637, 0.11475163, 0.15508708, 0.11531261, 0.13625014,\n",
       "       0.12481216, 0.15468549, 0.09304431, 0.17933407, 0.08421601,\n",
       "       0.15369486, 0.05506955, 0.0759282 , 0.08293719, 0.09570461,\n",
       "       0.10409359, 0.12064908, 0.12796861, 0.11105701, 0.05493091,\n",
       "       0.09360995, 0.06474597, 0.0756684 , 0.13092717, 0.16520677,\n",
       "       0.14041456, 0.17365481, 0.07902614, 0.10343707, 0.33228643,\n",
       "       0.34840454, 0.12932121, 0.17222365, 0.16277497, 0.21741962,\n",
       "       0.25773691, 0.34678024, 0.09673723, 0.13064983, 0.07186377,\n",
       "       0.08501615, 0.18161044, 0.32637504, 0.07117547, 0.07658201,\n",
       "       0.14066856, 0.13350165, 0.17289266, 0.16366538, 0.124225  ,\n",
       "       0.16452106, 0.13268566, 0.13182755, 0.19660292, 0.27491349,\n",
       "       0.11963862, 0.11989444, 0.07100421, 0.07593049, 0.24230344,\n",
       "       0.25831474, 0.04362367, 0.05379621, 0.05716277, 0.12592092,\n",
       "       0.26202423, 0.26902783, 0.07132489, 0.07832422, 0.12009535,\n",
       "       0.14035757, 0.07093665, 0.05780612, 0.05219083, 0.04475254,\n",
       "       0.07437729, 0.08026488, 0.06218616, 0.06308791, 0.06683291,\n",
       "       0.0549224 , 0.03387684, 0.03863884, 0.16491621, 0.16285866,\n",
       "       0.04700616, 0.06366531, 0.16501423, 0.20736407, 0.0738865 ,\n",
       "       0.1035915 , 0.11816277, 0.16286186, 0.11512779, 0.14917111,\n",
       "       0.06129532, 0.06130351, 0.09647565, 0.14001599, 0.15185382,\n",
       "       0.17788229, 0.28268802, 0.4798628 , 0.13240996, 0.14478643,\n",
       "       0.28420316, 0.29265617, 0.1385607 , 0.14956601, 0.11230028,\n",
       "       0.16484792, 0.09601302, 0.12744405, 0.15861953, 0.18711998,\n",
       "       0.24289917, 0.29197649, 0.12986993, 0.20448893, 0.11676097,\n",
       "       0.13836697, 0.18869094, 0.18520771, 0.06998468, 0.1111008 ,\n",
       "       0.07019505, 0.10300043, 0.07174101, 0.07371457, 0.04348713,\n",
       "       0.05010398, 0.07934938, 0.06843012, 0.06764927, 0.06205064,\n",
       "       0.08173469, 0.08882223, 0.13471299, 0.14506103, 0.07583455,\n",
       "       0.07151055, 0.0627873 , 0.06557927, 0.11550948, 0.10759916,\n",
       "       0.19598097, 0.21231307, 0.17442847, 0.18771319, 0.14395348,\n",
       "       0.15407325, 0.2260242 , 0.30268529, 0.06884069, 0.08089013,\n",
       "       0.25324894, 0.30820857, 0.09781109, 0.10655971, 0.11484929,\n",
       "       0.09782061, 0.11244989, 0.17043327, 0.12852001, 0.16359468,\n",
       "       0.10861939, 0.12037039, 0.15286238, 0.17622016, 0.0836861 ,\n",
       "       0.08112987, 0.05891607, 0.06498226, 0.10148752, 0.1166845 ,\n",
       "       0.18002328, 0.22142057, 0.23025819, 0.26789565, 0.16078982,\n",
       "       0.22645754, 0.09968317, 0.15284632, 0.08661561, 0.149768  ,\n",
       "       0.07997229, 0.12485526, 0.12491927, 0.15358453, 0.10511849,\n",
       "       0.0854575 , 0.14183948, 0.17878878, 0.11512226, 0.14745344,\n",
       "       0.06206964, 0.09367497, 0.05523323, 0.07225556, 0.07674795,\n",
       "       0.08618003, 0.04714323, 0.06647245, 0.15177001, 0.13633316,\n",
       "       0.07649501, 0.09989595, 0.07976385, 0.10554045, 0.16817627,\n",
       "       0.16258383, 0.08240194, 0.07502679, 0.23980983, 0.37399398,\n",
       "       0.08575577, 0.10840888, 0.19890769, 0.21605787, 0.09669142,\n",
       "       0.09906155, 0.10146095, 0.12738438, 0.25204357, 0.26735919,\n",
       "       0.17331773, 0.21376435, 0.08838927, 0.09915071, 0.07213151,\n",
       "       0.08423204, 0.07587815, 0.10226749, 0.05902378, 0.07035227,\n",
       "       0.06314862, 0.06878661, 0.12147493, 0.14064806, 0.07455533,\n",
       "       0.08232846, 0.20144005, 0.22798126, 0.04936588, 0.04746549,\n",
       "       0.04875148, 0.05169563, 0.06177327, 0.08630804, 0.08347268,\n",
       "       0.10496113, 0.08292391, 0.10481914, 0.12481217, 0.13010921,\n",
       "       0.10520761, 0.11446641, 0.06051094, 0.07528777, 0.18635452,\n",
       "       0.22211195, 0.13639062, 0.20031826, 0.12573293, 0.11007998,\n",
       "       0.13849162, 0.17288657, 0.08433968, 0.1166694 , 0.13600873,\n",
       "       0.14523353, 0.14584586, 0.16340235, 0.08113446, 0.10794839,\n",
       "       0.0975051 , 0.11437306, 0.18322763, 0.27843224, 0.08367719,\n",
       "       0.11541615, 0.10820181, 0.1162454 , 0.15651881, 0.17304867,\n",
       "       0.15941844, 0.19970102, 0.257641  , 0.27227339, 0.09092073,\n",
       "       0.1030061 , 0.26054815, 0.29255819, 0.06250763, 0.07203759,\n",
       "       0.11968702, 0.16990596, 0.13196942, 0.13397275, 0.14357798,\n",
       "       0.27320828, 0.15458154, 0.12798976, 0.09802149, 0.10485806,\n",
       "       0.12095486, 0.27726509, 0.28435604, 0.29850506, 0.07441991,\n",
       "       0.13093633, 0.2381238 , 0.21058905, 0.16421296, 0.16002379,\n",
       "       0.10000395, 0.14901082, 0.07440671, 0.09130647, 0.09928112,\n",
       "       0.08676208, 0.07610072, 0.11853621, 0.10180267, 0.11258301,\n",
       "       0.22857205, 0.29306368, 0.0863862 , 0.11428071, 0.08331763,\n",
       "       0.10002591, 0.08660033, 0.08303422, 0.18260991, 0.20086478,\n",
       "       0.06448858, 0.061004  , 0.10853364, 0.14385401, 0.12081152,\n",
       "       0.15200982, 0.15061344, 0.11354894, 0.15323788, 0.14694736,\n",
       "       0.11039651, 0.15744861, 0.04348713, 0.05010398, 0.05711209,\n",
       "       0.06277869, 0.20381535, 0.25089462, 0.11330354, 0.12855796,\n",
       "       0.14567052, 0.15294917, 0.19062312, 0.20361716, 0.09709426,\n",
       "       0.11090273, 0.19067848, 0.21747905, 0.09835099, 0.14228246,\n",
       "       0.21509458, 0.25197757, 0.06943496, 0.07391077, 0.10887744,\n",
       "       0.12906504, 0.07114582, 0.08740393, 0.07096416, 0.07427403,\n",
       "       0.12799548, 0.15487372, 0.11069295, 0.11949555, 0.11829285,\n",
       "       0.11637285, 0.11948353, 0.12101709, 0.17422029, 0.179389  ,\n",
       "       0.09045715, 0.12587116, 0.08104614, 0.0925414 , 0.15446058,\n",
       "       0.14073548, 0.09730638, 0.11707723, 0.20431707, 0.22759727,\n",
       "       0.06614239, 0.08089791, 0.05980169, 0.06497015, 0.10000695,\n",
       "       0.08224719, 0.11749289, 0.13369725, 0.22764148, 0.2319662 ,\n",
       "       0.096661  , 0.10312912, 0.17245626, 0.20959478, 0.13038297,\n",
       "       0.18334152, 0.09352809, 0.11218638, 0.08379522, 0.09574877,\n",
       "       0.097358  , 0.14295696, 0.1747093 , 0.19655143, 0.14512466,\n",
       "       0.18457649, 0.10244684, 0.11741601, 0.11590921, 0.14452144,\n",
       "       0.15665708, 0.15698346, 0.09314231, 0.09776702, 0.13783059,\n",
       "       0.17496056, 0.0982767 , 0.10100834, 0.21231839, 0.22958511,\n",
       "       0.11583193, 0.13452752, 0.11143065, 0.13290579, 0.1049271 ,\n",
       "       0.1059855 , 0.10187991, 0.09551144, 0.08375785, 0.07413975,\n",
       "       0.12416646, 0.11889854, 0.08921209, 0.25660835, 0.16887355,\n",
       "       0.17037335, 0.53628549, 0.5935175 , 0.08766846, 0.09011224,\n",
       "       0.18992716, 0.18205584, 0.12231601, 0.08995087, 0.10115153,\n",
       "       0.12167588])"
      ]
     },
     "execution_count": 15,
     "metadata": {},
     "output_type": "execute_result"
    }
   ],
   "source": [
    "Y_prediction_std=Y_pred_all.std(axis=1)\n",
    "Y_prediction_std"
   ]
  },
  {
   "cell_type": "code",
   "execution_count": 25,
   "metadata": {},
   "outputs": [
    {
     "data": {
      "text/plain": [
       "0.0008142158248500374"
      ]
     },
     "execution_count": 25,
     "metadata": {},
     "output_type": "execute_result"
    }
   ],
   "source": [
    "sigma1=Y_prediction_std*2.03/(1000**0.5)\n",
    "sigma1.min()"
   ]
  },
  {
   "cell_type": "code",
   "execution_count": 17,
   "metadata": {},
   "outputs": [],
   "source": [
    "UE_all=Y_prediction_mean+sigma1"
   ]
  },
  {
   "cell_type": "code",
   "execution_count": 18,
   "metadata": {},
   "outputs": [],
   "source": [
    "LE_all=Y_prediction_mean-sigma1"
   ]
  },
  {
   "cell_type": "code",
   "execution_count": null,
   "metadata": {},
   "outputs": [],
   "source": []
  },
  {
   "cell_type": "code",
   "execution_count": 21,
   "metadata": {},
   "outputs": [
    {
     "data": {
      "text/plain": [
       "0.0033641178447487833"
      ]
     },
     "execution_count": 21,
     "metadata": {},
     "output_type": "execute_result"
    }
   ],
   "source": [
    "MSE_all=mean_squared_error(Y_prediction_mean,Y_996)\n",
    "MSE_all"
   ]
  },
  {
   "cell_type": "code",
   "execution_count": null,
   "metadata": {},
   "outputs": [],
   "source": [
    "# #Confidence intervals\n",
    "# e=np.sort(Y_pred_all)\n",
    "# alpha=0.95\n",
    "# lower_all=np.zeros(996)\n",
    "# upper_all=np.zeros(996)\n",
    "# p = ((1.0-alpha)/2.0) * 100\n",
    "# q = (alpha+((1.0-alpha)/2.0)) * 100\n",
    "# for j in range(0,996):\n",
    "#     min_1=min(e[j])\n",
    "#     max_1=max(e[j])\n",
    "#     lower_all[j] = max(min_1, np.percentile(e[j,:], p)) #Lower limit\n",
    "#     upper_all[j]=min(max_1, np.percentile(e[j,:], q))   #Upper limit"
   ]
  },
  {
   "cell_type": "code",
   "execution_count": null,
   "metadata": {},
   "outputs": [],
   "source": []
  },
  {
   "cell_type": "code",
   "execution_count": null,
   "metadata": {},
   "outputs": [],
   "source": [
    "#n_donor\n",
    "Y_ndonor_mean=Y_prediction_ndonor.mean(axis=1)"
   ]
  },
  {
   "cell_type": "code",
   "execution_count": null,
   "metadata": {},
   "outputs": [],
   "source": [
    "Y_ndonor_std=Y_prediction_ndonor.std(axis=1)\n",
    "Y_ndonor_std"
   ]
  },
  {
   "cell_type": "code",
   "execution_count": null,
   "metadata": {},
   "outputs": [],
   "source": [
    "sigma2=Y_ndonor_std*1.96/(1000**0.5)\n",
    "sigma2"
   ]
  },
  {
   "cell_type": "code",
   "execution_count": null,
   "metadata": {},
   "outputs": [],
   "source": [
    "Y_ndonor_mean"
   ]
  },
  {
   "cell_type": "code",
   "execution_count": null,
   "metadata": {},
   "outputs": [],
   "source": [
    "LE_ndonor=Y_ndonor_mean-sigma2"
   ]
  },
  {
   "cell_type": "code",
   "execution_count": null,
   "metadata": {},
   "outputs": [],
   "source": [
    "UE_ndonor=Y_ndonor_mean+sigma2"
   ]
  },
  {
   "cell_type": "code",
   "execution_count": null,
   "metadata": {},
   "outputs": [],
   "source": [
    "Target=pd.read_csv('/Users/blair/Desktop/RF_Ustatistic/Y_pred_ndonor.csv')\n",
    "Target=np.array(Target).T[1]\n",
    "Target"
   ]
  },
  {
   "cell_type": "code",
   "execution_count": null,
   "metadata": {},
   "outputs": [],
   "source": [
    "MSE_ndonor=mean_squared_error(Target,Y_ndonor_mean)\n",
    "MSE_ndonor"
   ]
  },
  {
   "cell_type": "code",
   "execution_count": null,
   "metadata": {},
   "outputs": [],
   "source": [
    "# #Confidence intervals\n",
    "# d=np.sort(Y_prediction_ndonor)\n",
    "# alpha=0.95\n",
    "# lower_ndonor=np.zeros(10)\n",
    "# upper_ndonor=np.zeros(10)\n",
    "# p = ((1.0-alpha)/2.0) * 100\n",
    "# q = (alpha+((1.0-alpha)/2.0)) * 100\n",
    "# for j in range(0,10):\n",
    "#     min_2=min(d[j])\n",
    "#     max_2=max(d[j])\n",
    "#     lower_ndonor[j] = max(min_2, np.percentile(d[j,:], p)) #Lower limit\n",
    "#     upper_ndonor[j]=min(max_2, np.percentile(d[j,:], q))   #Upper limit"
   ]
  },
  {
   "cell_type": "code",
   "execution_count": 19,
   "metadata": {},
   "outputs": [],
   "source": [
    "#pd.DataFrame(lower_all).to_csv('/Users/blair/Desktop/RF_Ustatistic/100%/lower_all.csv')#Put address\n",
    "#pd.DataFrame(upper_all).to_csv('/Users/blair/Desktop/RF_Ustatistic/100%/upper_all.csv')#Put address\n",
    "#pd.DataFrame(lower_ndonor).to_csv('/Users/blair/Desktop/RF_Ustatistic/100%/lower_ndonor.csv')#Put address\n",
    "#pd.DataFrame(upper_ndonor).to_csv('/Users/blair/Desktop/RF_Ustatistic/100%/lower_ndonor.csv')#Put address\n",
    "pd.DataFrame(Y_target_train).to_csv('/Users/blair/Desktop/RF_Ustatistic/256/Y_target_train_662.csv')#Put address\n",
    "#pd.DataFrame(Y_target_test).to_csv('/Users/blair/Desktop/RF_Ustatistic/100%/Y_target_test_334.csv')#Put address\n",
    "pd.DataFrame(Y_pred_all).to_csv('/Users/blair/Desktop/RF_Ustatistic/256/Y_pred_all_996.csv')#Put address\n",
    "#pd.DataFrame(Y_prediction_test).to_csv('/Users/blair/Desktop/RF_Ustatistic/100%/Y_prediction_test_334.csv')#Put address\n",
    "pd.DataFrame(Y_prediction_train).to_csv('/Users/blair/Desktop/RF_Ustatistic/256/Y_prediction_train_662.csv')#Put address\n",
    "#pd.DataFrame(Y_prediction_ndonor).to_csv('/Users/blair/Desktop/RF_Ustatistic/256/Y_prediction_ndonor_10.csv')#Put address\n",
    "pd.DataFrame(MSE_boot).to_csv('/Users/blair/Desktop/RF_Ustatistic/256/MSE_boot.csv')#Put address\n",
    "#pd.DataFrame(Y_ndonor_mean).to_csv('/Users/blair/Desktop/RF_Ustatistic/256/Y_ndonor_mean.csv')#Put address\n",
    "pd.DataFrame(Y_prediction_mean).to_csv('/Users/blair/Desktop/RF_Ustatistic/256/Y_prediction_mean.csv')#Put address\n",
    "pd.DataFrame(Y_996).to_csv('/Users/blair/Desktop/RF_Ustatistic/256/Y_996.csv')#Put address"
   ]
  },
  {
   "cell_type": "code",
   "execution_count": 20,
   "metadata": {},
   "outputs": [],
   "source": [
    "pd.DataFrame(sigma1).to_csv('/Users/blair/Desktop/RF_Ustatistic/256/sigma1.csv')#Put address\n",
    "#pd.DataFrame(sigma2).to_csv('/Users/blair/Desktop/RF_Ustatistic/256/sigma2.csv')#Put address\n",
    "pd.DataFrame(UE_all).to_csv('/Users/blair/Desktop/RF_Ustatistic/256/UE_all.csv')#Put address\n",
    "pd.DataFrame(LE_all).to_csv('/Users/blair/Desktop/RF_Ustatistic/256/LE_all.csv')#Put address\n",
    "#pd.DataFrame(UE_ndonor).to_csv('/Users/blair/Desktop/RF_Ustatistic/100%/UE_ndonor.csv')#Put address\n",
    "#pd.DataFrame(LE_ndonor).to_csv('/Users/blair/Desktop/RF_Ustatistic/100%/LE_ndonor.csv')#Put address"
   ]
  },
  {
   "cell_type": "code",
   "execution_count": 26,
   "metadata": {},
   "outputs": [],
   "source": [
    "pd.DataFrame(Y_prediction_std).to_csv('/Users/blair/Desktop/RF_Ustatistic/256/Y_prediction_std.csv')#Put address"
   ]
  },
  {
   "cell_type": "code",
   "execution_count": null,
   "metadata": {},
   "outputs": [],
   "source": []
  }
 ],
 "metadata": {
  "kernelspec": {
   "display_name": "Python 3",
   "language": "python",
   "name": "python3"
  },
  "language_info": {
   "codemirror_mode": {
    "name": "ipython",
    "version": 3
   },
   "file_extension": ".py",
   "mimetype": "text/x-python",
   "name": "python",
   "nbconvert_exporter": "python",
   "pygments_lexer": "ipython3",
   "version": "3.6.8"
  }
 },
 "nbformat": 4,
 "nbformat_minor": 2
}
