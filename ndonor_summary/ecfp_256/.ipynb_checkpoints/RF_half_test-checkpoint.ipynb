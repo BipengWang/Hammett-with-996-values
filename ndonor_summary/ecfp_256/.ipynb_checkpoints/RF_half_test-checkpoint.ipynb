{
 "cells": [
  {
   "cell_type": "code",
   "execution_count": null,
   "metadata": {},
   "outputs": [],
   "source": [
    "#Internal bootstrap + one fit"
   ]
  },
  {
   "cell_type": "code",
   "execution_count": 16,
   "metadata": {},
   "outputs": [],
   "source": [
    "from rdkit import Chem\n",
    "from rdkit.Chem import AllChem\n",
    "import pandas as pd\n",
    "import numpy as np"
   ]
  },
  {
   "cell_type": "code",
   "execution_count": 17,
   "metadata": {},
   "outputs": [],
   "source": [
    "#create ecfp"
   ]
  },
  {
   "cell_type": "code",
   "execution_count": 20,
   "metadata": {},
   "outputs": [
    {
     "name": "stdout",
     "output_type": "stream",
     "text": [
      "<rdkit.Chem.rdmolfiles.SDMolSupplier object at 0x1239453e8>\n"
     ]
    },
    {
     "ename": "ArgumentError",
     "evalue": "Python argument types in\n    rdkit.Chem.rdMolDescriptors.GetMorganFingerprintAsBitVect(NoneType, int)\ndid not match C++ signature:\n    GetMorganFingerprintAsBitVect(RDKit::ROMol mol, int radius, unsigned int nBits=2048, boost::python::api::object invariants=[], boost::python::api::object fromAtoms=[], bool useChirality=False, bool useBondTypes=True, bool useFeatures=False, boost::python::api::object bitInfo=None)",
     "output_type": "error",
     "traceback": [
      "\u001b[0;31m---------------------------------------------------------------------------\u001b[0m",
      "\u001b[0;31mArgumentError\u001b[0m                             Traceback (most recent call last)",
      "\u001b[0;32m<ipython-input-20-12bcf46383ed>\u001b[0m in \u001b[0;36m<module>\u001b[0;34m\u001b[0m\n\u001b[1;32m      4\u001b[0m \u001b[0;31m#create the ecfp fingerprint\u001b[0m\u001b[0;34m\u001b[0m\u001b[0;34m\u001b[0m\u001b[0;34m\u001b[0m\u001b[0m\n\u001b[1;32m      5\u001b[0m \u001b[0;31m#x is the input, 2 is the radius\u001b[0m\u001b[0;34m\u001b[0m\u001b[0;34m\u001b[0m\u001b[0;34m\u001b[0m\u001b[0m\n\u001b[0;32m----> 6\u001b[0;31m \u001b[0mmorgan_996\u001b[0m\u001b[0;34m=\u001b[0m\u001b[0;34m[\u001b[0m\u001b[0mAllChem\u001b[0m\u001b[0;34m.\u001b[0m\u001b[0mGetMorganFingerprintAsBitVect\u001b[0m\u001b[0;34m(\u001b[0m\u001b[0mx\u001b[0m\u001b[0;34m,\u001b[0m\u001b[0;36m2\u001b[0m\u001b[0;34m,\u001b[0m\u001b[0mnBits\u001b[0m\u001b[0;34m=\u001b[0m\u001b[0;36m64\u001b[0m\u001b[0;34m)\u001b[0m \u001b[0;32mfor\u001b[0m \u001b[0mx\u001b[0m \u001b[0;32min\u001b[0m \u001b[0mligands_996\u001b[0m\u001b[0;34m]\u001b[0m\u001b[0;34m\u001b[0m\u001b[0;34m\u001b[0m\u001b[0m\n\u001b[0m\u001b[1;32m      7\u001b[0m \u001b[0mefp_996\u001b[0m\u001b[0;34m=\u001b[0m\u001b[0mnp\u001b[0m\u001b[0;34m.\u001b[0m\u001b[0marray\u001b[0m\u001b[0;34m(\u001b[0m\u001b[0mmorgan_996\u001b[0m\u001b[0;34m)\u001b[0m\u001b[0;34m\u001b[0m\u001b[0;34m\u001b[0m\u001b[0m\n\u001b[1;32m      8\u001b[0m \u001b[0mefp_996\u001b[0m\u001b[0;34m.\u001b[0m\u001b[0mshape\u001b[0m\u001b[0;34m\u001b[0m\u001b[0;34m\u001b[0m\u001b[0m\n",
      "\u001b[0;32m<ipython-input-20-12bcf46383ed>\u001b[0m in \u001b[0;36m<listcomp>\u001b[0;34m(.0)\u001b[0m\n\u001b[1;32m      4\u001b[0m \u001b[0;31m#create the ecfp fingerprint\u001b[0m\u001b[0;34m\u001b[0m\u001b[0;34m\u001b[0m\u001b[0;34m\u001b[0m\u001b[0m\n\u001b[1;32m      5\u001b[0m \u001b[0;31m#x is the input, 2 is the radius\u001b[0m\u001b[0;34m\u001b[0m\u001b[0;34m\u001b[0m\u001b[0;34m\u001b[0m\u001b[0m\n\u001b[0;32m----> 6\u001b[0;31m \u001b[0mmorgan_996\u001b[0m\u001b[0;34m=\u001b[0m\u001b[0;34m[\u001b[0m\u001b[0mAllChem\u001b[0m\u001b[0;34m.\u001b[0m\u001b[0mGetMorganFingerprintAsBitVect\u001b[0m\u001b[0;34m(\u001b[0m\u001b[0mx\u001b[0m\u001b[0;34m,\u001b[0m\u001b[0;36m2\u001b[0m\u001b[0;34m,\u001b[0m\u001b[0mnBits\u001b[0m\u001b[0;34m=\u001b[0m\u001b[0;36m64\u001b[0m\u001b[0;34m)\u001b[0m \u001b[0;32mfor\u001b[0m \u001b[0mx\u001b[0m \u001b[0;32min\u001b[0m \u001b[0mligands_996\u001b[0m\u001b[0;34m]\u001b[0m\u001b[0;34m\u001b[0m\u001b[0;34m\u001b[0m\u001b[0m\n\u001b[0m\u001b[1;32m      7\u001b[0m \u001b[0mefp_996\u001b[0m\u001b[0;34m=\u001b[0m\u001b[0mnp\u001b[0m\u001b[0;34m.\u001b[0m\u001b[0marray\u001b[0m\u001b[0;34m(\u001b[0m\u001b[0mmorgan_996\u001b[0m\u001b[0;34m)\u001b[0m\u001b[0;34m\u001b[0m\u001b[0;34m\u001b[0m\u001b[0m\n\u001b[1;32m      8\u001b[0m \u001b[0mefp_996\u001b[0m\u001b[0;34m.\u001b[0m\u001b[0mshape\u001b[0m\u001b[0;34m\u001b[0m\u001b[0;34m\u001b[0m\u001b[0m\n",
      "\u001b[0;31mArgumentError\u001b[0m: Python argument types in\n    rdkit.Chem.rdMolDescriptors.GetMorganFingerprintAsBitVect(NoneType, int)\ndid not match C++ signature:\n    GetMorganFingerprintAsBitVect(RDKit::ROMol mol, int radius, unsigned int nBits=2048, boost::python::api::object invariants=[], boost::python::api::object fromAtoms=[], bool useChirality=False, bool useBondTypes=True, bool useFeatures=False, boost::python::api::object bitInfo=None)"
     ]
    }
   ],
   "source": [
    "#read the sdf file of 10 predictable molecules\n",
    "ligands_996 =Chem.SDMolSupplier('/Users/blair/Desktop/CU.mol')\n",
    "print(ligands_996)\n",
    "#create the ecfp fingerprint\n",
    "#x is the input, 2 is the radius\n",
    "morgan_996=[AllChem.GetMorganFingerprintAsBitVect(x,2,nBits=64) for x in ligands_996]\n",
    "efp_996=np.array(morgan_996)\n",
    "efp_996.shape"
   ]
  },
  {
   "cell_type": "code",
   "execution_count": 13,
   "metadata": {},
   "outputs": [],
   "source": [
    "# #save the ecfp in a csv file\n",
    "pd.DataFrame(efp_996).to_csv('/Users/blair/Desktop/CU.csv')"
   ]
  },
  {
   "cell_type": "code",
   "execution_count": 19,
   "metadata": {},
   "outputs": [
    {
     "name": "stdout",
     "output_type": "stream",
     "text": [
      "<rdkit.Chem.rdmolfiles.SDMolSupplier object at 0x1243d3a78>\n"
     ]
    }
   ],
   "source": [
    "ligands_996 =Chem.SDMolSupplier('/Users/blair/Desktop/CU.mol')\n",
    "print(ligands_996)"
   ]
  },
  {
   "cell_type": "code",
   "execution_count": null,
   "metadata": {},
   "outputs": [],
   "source": [
    "# #read the sdf file of 386 molecules\n",
    "# ligands_database =Chem.SDMolSupplier('/Users/blair/Desktop/Hammett_constant/fixed_input/ligand')\n",
    "# morgan_database=[AllChem.GetMorganFingerprintAsBitVect(x,2,nBits=1024) for x in ligands_database]#create the ecfp fingerprint\n",
    "# efp_database=np.array(morgan_database)\n",
    "# efp_database.shape"
   ]
  },
  {
   "cell_type": "code",
   "execution_count": null,
   "metadata": {},
   "outputs": [],
   "source": [
    "# #save the ecfp in a csv file\n",
    "# pd.DataFrame(efp_database).to_csv('/Users/blair/Desktop/ecfp_386_1024.csv')"
   ]
  },
  {
   "cell_type": "code",
   "execution_count": null,
   "metadata": {},
   "outputs": [],
   "source": [
    "#Random forest part"
   ]
  },
  {
   "cell_type": "code",
   "execution_count": null,
   "metadata": {},
   "outputs": [],
   "source": [
    "import pandas as pd\n",
    "import numpy as np\n",
    "from sklearn.ensemble import RandomForestRegressor\n",
    "from sklearn import utils\n",
    "from sklearn import preprocessing\n",
    "from sklearn.metrics import mean_squared_error"
   ]
  },
  {
   "cell_type": "code",
   "execution_count": null,
   "metadata": {},
   "outputs": [],
   "source": [
    "#define a function for normalizing in vertical order\n",
    "def col_normalize(X):\n",
    "    X1=np.matrix(X)\n",
    "    X_1=X1.transpose()\n",
    "    X_2=np.array(X_1)\n",
    "    X_3=preprocessing.normalize(X_2,norm=\"l2\")\n",
    "    X_4=np.matrix(X_3)\n",
    "    X_5=X_4.transpose()\n",
    "    X_6=np.array(X_5)\n",
    "    return X_6"
   ]
  },
  {
   "cell_type": "code",
   "execution_count": null,
   "metadata": {},
   "outputs": [],
   "source": [
    "# #read the ecfp of ndonor and nomorlize\n",
    "# ndonor_ecfp=pd.read_csv('/Users/blair/Desktop/ecfp_ndonor_1024.csv')\n",
    "# X_ndonor=col_normalize(ndonor_ecfp)"
   ]
  },
  {
   "cell_type": "code",
   "execution_count": null,
   "metadata": {},
   "outputs": [],
   "source": [
    "#read the file containing the ecfp and isomer(1 or 2) and normalize\n",
    "input_positive=pd.read_csv('/Users/blair/Desktop/half_test/input_positive.csv')#Put address\n",
    "efp_785=pd.read_csv('/Users/blair/Desktop/half_test/efp_positive.csv')\n",
    "efp_785=np.array(efp_785)\n",
    "print(len(efp_785))\n",
    "Isomer_positive=input_positive[['Isomer']].copy()\n",
    "X_785=np.concatenate((efp_785,Isomer_positive),axis=1)\n",
    "#X_785=col_normalize(X_785)\n",
    "X_785.shape"
   ]
  },
  {
   "cell_type": "code",
   "execution_count": null,
   "metadata": {},
   "outputs": [],
   "source": [
    "#assign the Hammett constants to Y\n",
    "Y_positive=input_positive[['Hammett Constant']].copy()\n",
    "Y_positive=np.array(Y_positive)\n"
   ]
  },
  {
   "cell_type": "code",
   "execution_count": null,
   "metadata": {},
   "outputs": [],
   "source": [
    "index_positive=np.random.choice(784, size=523, replace=False)\n",
    "X_523=X_785[index_positive]\n",
    "Y_523=Y_positive[index_positive]\n",
    "X_positive_left=np.delete(X_785,index_positive,axis=0)\n",
    "Y_positive_left=np.delete(Y_positive,index_positive,axis=0)\n",
    "Y_positive_left.shape"
   ]
  },
  {
   "cell_type": "code",
   "execution_count": null,
   "metadata": {},
   "outputs": [],
   "source": [
    "# X_523=X_785[index_positive]\n",
    "# Y_523=Y_positive[index_positive]"
   ]
  },
  {
   "cell_type": "code",
   "execution_count": null,
   "metadata": {},
   "outputs": [],
   "source": [
    "input_negative=pd.read_csv('/Users/blair/Desktop/half_test/input_negative.csv')#Put address\n",
    "efp_183=pd.read_csv('/Users/blair/Desktop/half_test/efp_negative.csv')\n",
    "efp_183=np.array(efp_183)\n",
    "print(len(efp_183))\n",
    "Isomer_negative=input_negative[['Isomer']].copy()\n",
    "X_183=np.concatenate((efp_183,Isomer_negative),axis=1)\n",
    "#X_183=col_normalize(X_183)\n",
    "X_183.shape"
   ]
  },
  {
   "cell_type": "code",
   "execution_count": null,
   "metadata": {},
   "outputs": [],
   "source": [
    "Y_negative=input_negative[['Hammett Constant']].copy()\n",
    "Y_negative=np.array(Y_negative)\n",
    "Y_negative.shape"
   ]
  },
  {
   "cell_type": "code",
   "execution_count": null,
   "metadata": {},
   "outputs": [],
   "source": [
    "index_negative=np.random.choice(182, size=121, replace=False)\n",
    "X_121=X_183[index_negative]\n",
    "Y_121=Y_negative[index_negative]\n",
    "X_negative_left=np.delete(X_183,index_negative,axis=0)\n",
    "Y_negative_left=np.delete(Y_negative,index_negative,axis=0)"
   ]
  },
  {
   "cell_type": "code",
   "execution_count": null,
   "metadata": {},
   "outputs": [],
   "source": [
    "input_zeros=pd.read_csv('/Users/blair/Desktop/half_test/input_zeros.csv')#Put address\n",
    "efp_28=pd.read_csv('/Users/blair/Desktop/half_test/efp_zeros.csv')\n",
    "efp_28=np.array(efp_28)\n",
    "print(len(efp_28))\n",
    "Isomer_zeros=input_zeros[['Isomer']].copy()\n",
    "X_28=np.concatenate((efp_28,Isomer_zeros),axis=1)\n",
    "#X_28=col_normalize(X_28)\n",
    "X_28.shape\n",
    "X_28"
   ]
  },
  {
   "cell_type": "code",
   "execution_count": null,
   "metadata": {},
   "outputs": [],
   "source": [
    "Y_zeros=input_zeros[['Hammett Constant']].copy()\n",
    "Y_zeros=np.array(Y_zeros)\n",
    "Y_zeros.shape"
   ]
  },
  {
   "cell_type": "code",
   "execution_count": null,
   "metadata": {},
   "outputs": [],
   "source": [
    "index_zeros=np.random.choice(27, size=18, replace=False)\n",
    "X_18=X_28[index_zeros]\n",
    "Y_18=Y_zeros[index_zeros]\n",
    "X_zeros_left=np.delete(X_28,index_zeros,axis=0)\n",
    "Y_zeros_left=np.delete(Y_zeros,index_zeros,axis=0)"
   ]
  },
  {
   "cell_type": "code",
   "execution_count": null,
   "metadata": {},
   "outputs": [],
   "source": [
    "X_662=np.concatenate((X_523,X_121,X_18),axis=0)\n",
    "Y_662=np.concatenate((Y_523,Y_121,Y_18),axis=0)\n",
    "X_662.shape\n",
    "Y_662.shape"
   ]
  },
  {
   "cell_type": "code",
   "execution_count": null,
   "metadata": {},
   "outputs": [],
   "source": [
    "#pd.DataFrame(Y_662).to_csv('/Users/blair/Desktop/half_test/Y_662_target.csv')#Put address"
   ]
  },
  {
   "cell_type": "code",
   "execution_count": null,
   "metadata": {},
   "outputs": [],
   "source": [
    "X_left=np.concatenate((X_positive_left,X_negative_left,X_zeros_left),axis=0)\n",
    "Y_left=np.concatenate((Y_positive_left,Y_negative_left,Y_zeros_left),axis=0)\n",
    "Y_left.shape"
   ]
  },
  {
   "cell_type": "code",
   "execution_count": null,
   "metadata": {},
   "outputs": [],
   "source": [
    "#pd.DataFrame(Y_left).to_csv('/Users/blair/Desktop/half_test/Y_test_target.csv')#Put address"
   ]
  },
  {
   "cell_type": "code",
   "execution_count": null,
   "metadata": {},
   "outputs": [],
   "source": [
    "# input_996=pd.read_csv('/Users/blair/Desktop/half_test/input_996.csv')#Put address\n",
    "efp_ndonor=pd.read_csv('/Users/blair/Desktop/half_test/ndonor/test2/ecfp_ndonor.csv')\n",
    "efp_ndonor=np.array(efp_ndonor)\n",
    "#X_ndonor=col_normalize(efp_ndonor)\n",
    "# efp_996=np.array(efp_996)\n",
    "# print(len(efp_996))\n",
    "# Isomer_996=input_996[['Isomer']].copy()\n",
    "# X_996=np.concatenate((efp_996,Isomer_996),axis=1)\n",
    "# X_996=col_normalize(X_996)\n",
    "# X_996.shape\n",
    "\n",
    "X_ndonor=efp_ndonor\n",
    "print(X_ndonor)\n",
    "print(X_ndonor.shape)\n",
    "type(X_ndonor)"
   ]
  },
  {
   "cell_type": "code",
   "execution_count": null,
   "metadata": {},
   "outputs": [],
   "source": [
    "#create null list to record values later\n",
    "MSE_boot=np.zeros((1),dtype= float)\n",
    "Index= np.zeros((1,662),dtype=int)\n",
    "Y_prediction_train=np.zeros(662).T\n",
    "Y_prediction_test=np.zeros(662).T\n",
    "Y_pred_all=np.zeros((662,1),dtype=float)"
   ]
  },
  {
   "cell_type": "code",
   "execution_count": null,
   "metadata": {},
   "outputs": [],
   "source": [
    "#set up the randomforest\n",
    "#n_estimators is the # of tree, max_depth is max depth of each tree, \n",
    "#random_state is the seed used by the random number generator\n",
    "#bootstrap = 1 is to use internal bootstrap\n",
    "regr = RandomForestRegressor(n_estimators=1000, max_depth=None,\n",
    "                             random_state=None,bootstrap=0)"
   ]
  },
  {
   "cell_type": "code",
   "execution_count": null,
   "metadata": {},
   "outputs": [],
   "source": [
    "#running the rf\n",
    "X_resample= X_662\n",
    "Y_resample= Y_662\n",
    "regr.fit(X_resample, Y_resample.ravel())\n",
    "Y_pred_662=regr.predict(X_resample)    #Fit RF on training set\n",
    "Y_pred_left=regr.predict(X_left)        #Fit RF on testing set\n",
    "#Y_pred_all=regr.predict(X_996)        # Fit RF on complete database\n",
    "#Y_pred_ndonor=regr.predict(X_ndonor)    # Fit RF on ndonor\n",
    "MSE_train=mean_squared_error(Y_resample, Y_pred_662)\n",
    "MSE_test=mean_squared_error(Y_left, Y_pred_left)\n",
    "MSE_boot=(MSE_train*0.368)+(0.632)*(MSE_test)"
   ]
  },
  {
   "cell_type": "code",
   "execution_count": null,
   "metadata": {},
   "outputs": [],
   "source": [
    "MSE_train"
   ]
  },
  {
   "cell_type": "code",
   "execution_count": null,
   "metadata": {},
   "outputs": [],
   "source": [
    "MSE_test"
   ]
  },
  {
   "cell_type": "code",
   "execution_count": null,
   "metadata": {},
   "outputs": [],
   "source": [
    "print(MSE_boot)\n",
    "#Y_pred_ndonor"
   ]
  },
  {
   "cell_type": "code",
   "execution_count": null,
   "metadata": {},
   "outputs": [],
   "source": []
  },
  {
   "cell_type": "code",
   "execution_count": null,
   "metadata": {},
   "outputs": [],
   "source": [
    "Y_pred_ndonor=regr.predict(X_ndonor)"
   ]
  },
  {
   "cell_type": "code",
   "execution_count": null,
   "metadata": {},
   "outputs": [],
   "source": [
    "print(Y_pred_ndonor)"
   ]
  },
  {
   "cell_type": "code",
   "execution_count": null,
   "metadata": {},
   "outputs": [],
   "source": [
    "print(Y_pred_ndonor)"
   ]
  },
  {
   "cell_type": "code",
   "execution_count": null,
   "metadata": {},
   "outputs": [],
   "source": [
    "print(Y_pred_ndonor)"
   ]
  },
  {
   "cell_type": "code",
   "execution_count": null,
   "metadata": {},
   "outputs": [],
   "source": [
    "print(Y_pred_ndonor)"
   ]
  },
  {
   "cell_type": "code",
   "execution_count": null,
   "metadata": {},
   "outputs": [],
   "source": [
    "print(Y_pred_ndonor)"
   ]
  },
  {
   "cell_type": "code",
   "execution_count": null,
   "metadata": {},
   "outputs": [],
   "source": [
    "print(Y_pred_ndonor)"
   ]
  },
  {
   "cell_type": "code",
   "execution_count": null,
   "metadata": {},
   "outputs": [],
   "source": [
    "print(Y_pred_ndonor)"
   ]
  },
  {
   "cell_type": "code",
   "execution_count": null,
   "metadata": {},
   "outputs": [],
   "source": [
    "print(Y_pred_ndonor)"
   ]
  },
  {
   "cell_type": "code",
   "execution_count": null,
   "metadata": {},
   "outputs": [],
   "source": [
    "Y_pred_CAll=np.concatenate((Y_pred_662,Y_pred_left),axis=0)\n",
    "Y_pred_target=np.concatenate((Y_662,Y_left),axis=0)"
   ]
  },
  {
   "cell_type": "code",
   "execution_count": null,
   "metadata": {},
   "outputs": [],
   "source": [
    "#record the mse in a csv file\n",
    "#pd.DataFrame(MSE_boot).to_csv('/Users/blair/Desktop/new_data/mse.csv')#Put address\n",
    "#Y_prediction=Y_pred_all\n",
    "#Y_prediction_ndonor=Y_pred_ndonor\n",
    "#Save output in csv\n",
    "pd.DataFrame(Y_pred_662).to_csv('/Users/blair/Desktop/half_test/Y_pred_train.csv')#Put address\n",
    "#pd.DataFrame(Y_pred_ndonor).to_csv('/Users/blair/Desktop/Y_prediction_ndonor.csv.csv')\n",
    "pd.DataFrame(Y_pred_left).to_csv('/Users/blair/Desktop/half_test/Y_pred_test.csv')#Put address\n",
    "pd.DataFrame(Y_pred_CAll).to_csv('/Users/blair/Desktop/half_test/Y_pred_all.csv')#Put address\n",
    "pd.DataFrame(Y_pred_target).to_csv('/Users/blair/Desktop/half_test/Y_target.csv')#Put address"
   ]
  },
  {
   "cell_type": "code",
   "execution_count": null,
   "metadata": {},
   "outputs": [],
   "source": [
    "# #save the model\n",
    "# from sklearn.externals import joblib\n",
    "# filename='/Users/blair/Desktop/randomforest.sav'\n",
    "# joblib.dump(regr, filename)"
   ]
  },
  {
   "cell_type": "code",
   "execution_count": null,
   "metadata": {},
   "outputs": [],
   "source": [
    "# #load the model\n",
    "# loaded_model = joblib.load(filename)\n",
    "# result = loaded_model.score(X_test, Y_test)"
   ]
  }
 ],
 "metadata": {
  "kernelspec": {
   "display_name": "Python 3",
   "language": "python",
   "name": "python3"
  },
  "language_info": {
   "codemirror_mode": {
    "name": "ipython",
    "version": 3
   },
   "file_extension": ".py",
   "mimetype": "text/x-python",
   "name": "python",
   "nbconvert_exporter": "python",
   "pygments_lexer": "ipython3",
   "version": "3.6.8"
  }
 },
 "nbformat": 4,
 "nbformat_minor": 2
}
