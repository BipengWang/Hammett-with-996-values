{
 "cells": [
  {
   "cell_type": "code",
   "execution_count": 1,
   "metadata": {},
   "outputs": [],
   "source": [
    "import pandas as pd\n",
    "import numpy as np\n",
    "from sklearn.ensemble import RandomForestRegressor\n",
    "from sklearn import utils\n",
    "from sklearn import preprocessing\n",
    "from sklearn.metrics import mean_squared_error\n",
    "from sklearn.utils import shuffle\n",
    "from rdkit import Chem\n",
    "from rdkit.Chem import AllChem\n",
    "import pandas as pd\n",
    "import numpy as np"
   ]
  },
  {
   "cell_type": "code",
   "execution_count": 2,
   "metadata": {},
   "outputs": [],
   "source": [
    "# #read the sdf file of 10 predictable molecules\n",
    "# ligands_996 =Chem.SDMolSupplier('ndonor.sdf')\n",
    "# #create the ecfp fingerprint\n",
    "# #x is the input, 2 is the radius\n",
    "# morgan_996=[AllChem.GetMorganFingerprintAsBitVect(x,2,nBits=256) for x in ligands_996]\n",
    "# efp_996=np.array(morgan_996)\n",
    "# efp_996.shape"
   ]
  },
  {
   "cell_type": "code",
   "execution_count": 3,
   "metadata": {},
   "outputs": [],
   "source": [
    "# # #save the ecfp in a csv file\n",
    "# pd.DataFrame(efp_996).to_csv('ecfp_ndonor.csv')"
   ]
  },
  {
   "cell_type": "code",
   "execution_count": 4,
   "metadata": {},
   "outputs": [],
   "source": [
    "# #define a function for normalizing in vertical order\n",
    "# def col_normalize(X):\n",
    "#     X1=np.matrix(X)\n",
    "#     X_1=X1.transpose()\n",
    "#     X_2=np.array(X_1)\n",
    "#     X_3=preprocessing.normalize(X_2,norm=\"l2\")\n",
    "#     X_4=np.matrix(X_3)\n",
    "#     X_5=X_4.transpose()\n",
    "#     X_6=np.array(X_5)\n",
    "#     return X_6"
   ]
  },
  {
   "cell_type": "code",
   "execution_count": 6,
   "metadata": {},
   "outputs": [
    {
     "name": "stdout",
     "output_type": "stream",
     "text": [
      "992\n"
     ]
    },
    {
     "data": {
      "text/plain": [
       "(992, 257)"
      ]
     },
     "execution_count": 6,
     "metadata": {},
     "output_type": "execute_result"
    }
   ],
   "source": [
    "#read the file containing the ecfp and isomer(1 or 2) and normalize\n",
    "input=pd.read_csv('input_992.csv')#Put address\n",
    "efp_996=pd.read_csv('neuralfp_992.csv')\n",
    "efp_996=np.array(efp_996)\n",
    "Isomer=input[['Isomer']].copy()\n",
    "X_996=np.concatenate((efp_996,Isomer),axis=1)\n",
    "print(len(efp_996))\n",
    "#Isomer_positive=input_positive[['Isomer']].copy()\n",
    "#X_996=np.concatenate((efp_996,Isomer_positive),axis=1)\n",
    "#X_785=col_normalize(X_785)\n",
    "X_996.shape"
   ]
  },
  {
   "cell_type": "code",
   "execution_count": 7,
   "metadata": {},
   "outputs": [],
   "source": [
    "#assign the Hammett constants to Y\n",
    "Y_996=input[['Hammett Constant']].copy()\n",
    "Y_996=np.array(Y_996)"
   ]
  },
  {
   "cell_type": "code",
   "execution_count": 8,
   "metadata": {},
   "outputs": [
    {
     "data": {
      "text/plain": [
       "(10, 257)"
      ]
     },
     "execution_count": 8,
     "metadata": {},
     "output_type": "execute_result"
    }
   ],
   "source": [
    "efp_ndonor=pd.read_csv('neuralfp_10.csv')\n",
    "efp_ndonor=np.array(efp_ndonor)\n",
    "X_ndonor=efp_ndonor\n",
    "X_ndonor.shape"
   ]
  },
  {
   "cell_type": "code",
   "execution_count": 9,
   "metadata": {},
   "outputs": [
    {
     "name": "stdout",
     "output_type": "stream",
     "text": [
      "(1000,)\n"
     ]
    }
   ],
   "source": [
    "#create null list to record values later\n",
    "MSE_boot=np.zeros((1000),dtype= float)\n",
    "#Index= np.zeros((1000,662),dtype=int)\n",
    "Y_prediction_train=np.zeros((992,1000),dtype=float)\n",
    "#Y_prediction_test=np.zeros((334,1000),dtype=float)\n",
    "Y_pred_all=np.zeros((992,1000),dtype=float)\n",
    "Y_target_train=np.zeros((992,1000),dtype=float)\n",
    "#Y_target_test=np.zeros((334,1000),dtype=float)\n",
    "Y_prediction_ndonor=np.zeros((10,1000),dtype=float)\n",
    "MSE_boot=np.zeros((1000),dtype= float)\n",
    "print(Y_target_train[0].shape)"
   ]
  },
  {
   "cell_type": "code",
   "execution_count": 10,
   "metadata": {},
   "outputs": [],
   "source": [
    "regr = RandomForestRegressor(n_estimators=1, max_depth=None, random_state=None,bootstrap=0)"
   ]
  },
  {
   "cell_type": "code",
   "execution_count": 11,
   "metadata": {},
   "outputs": [],
   "source": [
    "# list(X_996).index(\"infinity\")"
   ]
  },
  {
   "cell_type": "code",
   "execution_count": null,
   "metadata": {},
   "outputs": [],
   "source": [
    "for m in range(0,1000):\n",
    "    #positive part\n",
    "    index_996=np.random.choice(992, size=992, replace=1)\n",
    "    X_train=X_996[index_996]\n",
    "    Y_train=Y_996[index_996]\n",
    "    X_test=np.delete(X_train,index_996,axis=0)\n",
    "    Y_test=np.delete(Y_train,index_996,axis=0)\n",
    "    #Y_positive_left.shape\n",
    "    #negative part\n",
    "#     index_negative=np.random.choice(183, size=183, replace=1)\n",
    "#     X_121=X_183[index_negative]\n",
    "#     Y_121=Y_negative[index_negative]\n",
    "#     X_negative_left=np.delete(X_183,index_negative,axis=0)\n",
    "#     Y_negative_left=np.delete(Y_negative,index_negative,axis=0)\n",
    "#     #neutral part\n",
    "#     index_zeros=np.random.choice(28, size=28, replace=1)\n",
    "#     X_18=X_28[index_zeros]\n",
    "#     Y_18=Y_zeros[index_zeros]\n",
    "#     X_zeros_left=np.delete(X_28,index_zeros,axis=0)\n",
    "#     Y_zeros_left=np.delete(Y_zeros,index_zeros,axis=0)\n",
    "#     #target\n",
    "#     X_662=np.concatenate((X_523,X_121,X_18),axis=0)\n",
    "#     Y_662=np.concatenate((Y_523,Y_121,Y_18),axis=0)\n",
    "#     X_662, Y_662 = shuffle(X_662, Y_662)\n",
    "#     #X_662.shape\n",
    "#     #print(Y_662.shape)\n",
    "#     #left\n",
    "#     X_left=np.concatenate((X_positive_left,X_negative_left,X_zeros_left),axis=0)\n",
    "#     Y_left=np.concatenate((Y_positive_left,Y_negative_left,Y_zeros_left),axis=0)\n",
    "#     Y_target_train[:,m]=Y_662.ravel()\n",
    "#     #Y_target_test[:,m]=Y_left.ravel()\n",
    "#     #Y_left.shape\n",
    "#     #RF\n",
    "    X_resample= X_train\n",
    "    Y_resample= Y_train\n",
    "    regr.fit(X_resample, Y_resample.ravel())\n",
    "    Y_pred_train=regr.predict(X_resample)    #Fit RF on training set\n",
    "    Y_pred_test=regr.predict(X_test)        #Fit RF on testing set\n",
    "    Y_pred_all_each=regr.predict(X_996)     # Fit RF on complete database\n",
    "    Y_pred_all[:,m]=Y_pred_all_each\n",
    "    #Y_prediction_test[:,m]=Y_pred_left\n",
    "    Y_prediction_train[:,m]=Y_pred_train\n",
    "    #Y_pred_all=regr.predict(X_996)\n",
    "    Y_pred_ndonor=regr.predict(X_ndonor)    # Fit RF on ndonor\n",
    "    Y_prediction_ndonor[:,m]=Y_pred_ndonor\n",
    "    MSE_train=mean_squared_error(Y_resample, Y_pred_train)\n",
    "    MSE_test=mean_squared_error(Y_test, Y_pred_test)\n",
    "    MSE_boot[m]=(MSE_train*0.368)+(0.632)*(MSE_test)"
   ]
  },
  {
   "cell_type": "code",
   "execution_count": null,
   "metadata": {},
   "outputs": [],
   "source": [
    "Y_prediction_mean=Y_pred_all.mean(axis=1)\n",
    "Y_prediction_mean"
   ]
  },
  {
   "cell_type": "code",
   "execution_count": null,
   "metadata": {},
   "outputs": [],
   "source": [
    "Y_prediction_std=Y_pred_all.std(axis=1)\n",
    "Y_prediction_std"
   ]
  },
  {
   "cell_type": "code",
   "execution_count": null,
   "metadata": {},
   "outputs": [],
   "source": [
    "sigma1=Y_prediction_std*2.03/(1000**0.5)\n",
    "#sigma1.min()"
   ]
  },
  {
   "cell_type": "code",
   "execution_count": null,
   "metadata": {},
   "outputs": [],
   "source": [
    "MSE_all=mean_squared_error(Y_prediction_mean,Y_996)\n",
    "MSE_all"
   ]
  },
  {
   "cell_type": "code",
   "execution_count": null,
   "metadata": {},
   "outputs": [],
   "source": [
    "#n_donor with NH2\n",
    "Y_ndonor_mean=Y_prediction_ndonor.mean(axis=1)\n",
    "print(\"        NOC,         NC,           N,          NCF3,         NNO2\")\n",
    "Y_ndonor_mean"
   ]
  },
  {
   "cell_type": "code",
   "execution_count": null,
   "metadata": {},
   "outputs": [],
   "source": [
    "Y_ndonor_std=Y_prediction_ndonor.std(axis=1)\n",
    "Y_ndonor_std"
   ]
  },
  {
   "cell_type": "code",
   "execution_count": null,
   "metadata": {},
   "outputs": [],
   "source": [
    "sigma2=Y_ndonor_std*2.03/(1000**0.5)\n",
    "sigma2"
   ]
  },
  {
   "cell_type": "code",
   "execution_count": null,
   "metadata": {},
   "outputs": [],
   "source": [
    "pd.DataFrame(Y_prediction_mean).to_csv('Y_prediction_mean.csv')#Put address"
   ]
  },
  {
   "cell_type": "code",
   "execution_count": null,
   "metadata": {},
   "outputs": [],
   "source": []
  },
  {
   "cell_type": "code",
   "execution_count": null,
   "metadata": {},
   "outputs": [],
   "source": [
    "import pandas as pd\n",
    "import matplotlib.pyplot as plt\n",
    "import matplotlib\n",
    "\n",
    "font = {'family' : 'normal',\n",
    "        'weight' : 'normal',\n",
    "        'size'   : 35}\n",
    "\n",
    "matplotlib.rc('font', **font)\n",
    "# filename = 'Y_all.csv'\n",
    "# df = pd.read_csv(filename)\n",
    "# #df1= pd.read_csv('FEC_10000.csv')\n",
    "# df.columns#, df1.columns\n",
    "\n",
    "#Plot parameters\n",
    "\n",
    "xlow = -1.5\n",
    "xhigh = 2.5\n",
    "\n",
    "\n",
    "x=input['Hammett Constant']\n",
    "y=Y_prediction_mean\n",
    "y_err=[Y_prediction_std,Y_prediction_std]"
   ]
  },
  {
   "cell_type": "code",
   "execution_count": null,
   "metadata": {},
   "outputs": [],
   "source": [
    "def scatplot(x_data, y_data, error_data, x_label, y_label, title):\n",
    "    _, ax = plt.subplots(figsize=(12,12))\n",
    "    # Draw bars, position them in the center of the tick mark on the x-axis\n",
    "    ax.scatter(x_data, y_data, color = 'red',s=30)\n",
    "    # Draw error bars to show standard deviation, set ls to 'none'\n",
    "    # to remove line between points\n",
    "    ax.errorbar(x_data, y_data,  \n",
    "                yerr = error_data, \n",
    "                color = 'black', \n",
    "                ls = 'none', \n",
    "                lw = 0.5, capsize = 5)\n",
    "    plt.xlim(xlow,xhigh)\n",
    "    plt.ylim(xlow,xhigh)\n",
    "    ax.plot([xlow, xhigh], [xlow, xhigh], color='gray', linestyle='-', linewidth=0.5)\n",
    "    ax.set_ylabel(y_label)\n",
    "    ax.set_xlabel(x_label)\n",
    "    ax.set_title(title,fontsize=22.5)\n",
    "    \n",
    "\n",
    "# Call the function to create plot\n",
    "scatplot(x_data = x, \n",
    "         y_data = y,\n",
    "         error_data = y_err,\n",
    "         x_label = 'Target',\n",
    "         y_label = 'Prediction',\n",
    "         title = '')\n",
    "\n",
    "plt.annotate('Slope = 0.890', \n",
    "             xy=(-1.4, 2.3),  \n",
    "             xycoords='data',\n",
    "             textcoords='offset points',\n",
    "             fontsize='30'\n",
    "            # arrowprops=dict(arrowstyle=\"->\")\n",
    "            )\n",
    "plt.annotate('Mean Squared Error = 0.0037', \n",
    "             xy=(-1.4, 2.1),  \n",
    "             xycoords='data',\n",
    "             textcoords='offset points',\n",
    "             fontsize='30'\n",
    "            # arrowprops=dict(arrowstyle=\"->\")\n",
    "            )\n",
    "plt.annotate('Test set: 992 data points', \n",
    "             xy=(-1.4, 1.9),  \n",
    "             xycoords='data',\n",
    "             textcoords='offset points',\n",
    "             fontsize='30'\n",
    "            # arrowprops=dict(arrowstyle=\"->\")\n",
    "            )\n",
    "        \n",
    "#Plotting prediction for inputs without \n",
    "#plt.scatter(x1, y1, color = 'green',s=30)\n",
    "#plt.errorbar(x1, y1,yerr = y1_err, color = 'k', ls = 'none', lw = 0.5, capsize = 5)\n",
    "#plt.show()"
   ]
  },
  {
   "cell_type": "code",
   "execution_count": null,
   "metadata": {},
   "outputs": [],
   "source": []
  }
 ],
 "metadata": {
  "kernelspec": {
   "display_name": "Python 3",
   "language": "python",
   "name": "python3"
  },
  "language_info": {
   "codemirror_mode": {
    "name": "ipython",
    "version": 3
   },
   "file_extension": ".py",
   "mimetype": "text/x-python",
   "name": "python",
   "nbconvert_exporter": "python",
   "pygments_lexer": "ipython3",
   "version": "3.6.8"
  }
 },
 "nbformat": 4,
 "nbformat_minor": 2
}
